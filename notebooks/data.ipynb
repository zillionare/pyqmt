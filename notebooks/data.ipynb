{
 "cells": [
  {
   "attachments": {},
   "cell_type": "markdown",
   "metadata": {},
   "source": [
    "## 获取数据"
   ]
  },
  {
   "cell_type": "code",
   "execution_count": 12,
   "metadata": {},
   "outputs": [
    {
     "data": {
      "text/html": [
       "<div>\n",
       "<style scoped>\n",
       "    .dataframe tbody tr th:only-of-type {\n",
       "        vertical-align: middle;\n",
       "    }\n",
       "\n",
       "    .dataframe tbody tr th {\n",
       "        vertical-align: top;\n",
       "    }\n",
       "\n",
       "    .dataframe thead th {\n",
       "        text-align: right;\n",
       "    }\n",
       "</style>\n",
       "<table border=\"1\" class=\"dataframe\">\n",
       "  <thead>\n",
       "    <tr style=\"text-align: right;\">\n",
       "      <th></th>\n",
       "      <th>19910107</th>\n",
       "      <th>19910108</th>\n",
       "      <th>19910109</th>\n",
       "      <th>19910110</th>\n",
       "      <th>19910111</th>\n",
       "      <th>19910114</th>\n",
       "      <th>19910115</th>\n",
       "      <th>19910116</th>\n",
       "      <th>19910117</th>\n",
       "      <th>19910118</th>\n",
       "      <th>...</th>\n",
       "      <th>20041222</th>\n",
       "      <th>20041223</th>\n",
       "      <th>20041224</th>\n",
       "      <th>20041227</th>\n",
       "      <th>20041228</th>\n",
       "      <th>20041229</th>\n",
       "      <th>20041230</th>\n",
       "      <th>20041231</th>\n",
       "      <th>20050104</th>\n",
       "      <th>20050105</th>\n",
       "    </tr>\n",
       "  </thead>\n",
       "  <tbody>\n",
       "    <tr>\n",
       "      <th>000001.SZ</th>\n",
       "      <td>663177600000</td>\n",
       "      <td>663264000000</td>\n",
       "      <td>663350400000</td>\n",
       "      <td>663436800000</td>\n",
       "      <td>663523200000</td>\n",
       "      <td>663782400000</td>\n",
       "      <td>663868800000</td>\n",
       "      <td>663955200000</td>\n",
       "      <td>664041600000</td>\n",
       "      <td>664128000000</td>\n",
       "      <td>...</td>\n",
       "      <td>1103644800000</td>\n",
       "      <td>1103731200000</td>\n",
       "      <td>1103817600000</td>\n",
       "      <td>1104076800000</td>\n",
       "      <td>1104163200000</td>\n",
       "      <td>1104249600000</td>\n",
       "      <td>1104336000000</td>\n",
       "      <td>1104422400000</td>\n",
       "      <td>1104768000000</td>\n",
       "      <td>1104854400000</td>\n",
       "    </tr>\n",
       "    <tr>\n",
       "      <th>600000.SH</th>\n",
       "      <td>663177600000</td>\n",
       "      <td>663264000000</td>\n",
       "      <td>663350400000</td>\n",
       "      <td>663436800000</td>\n",
       "      <td>663523200000</td>\n",
       "      <td>663782400000</td>\n",
       "      <td>663868800000</td>\n",
       "      <td>663955200000</td>\n",
       "      <td>664041600000</td>\n",
       "      <td>664128000000</td>\n",
       "      <td>...</td>\n",
       "      <td>1103644800000</td>\n",
       "      <td>1103731200000</td>\n",
       "      <td>1103817600000</td>\n",
       "      <td>1104076800000</td>\n",
       "      <td>1104163200000</td>\n",
       "      <td>1104249600000</td>\n",
       "      <td>1104336000000</td>\n",
       "      <td>1104422400000</td>\n",
       "      <td>1104768000000</td>\n",
       "      <td>1104854400000</td>\n",
       "    </tr>\n",
       "  </tbody>\n",
       "</table>\n",
       "<p>2 rows × 3444 columns</p>\n",
       "</div>"
      ],
      "text/plain": [
       "               19910107      19910108      19910109      19910110  \\\n",
       "000001.SZ  663177600000  663264000000  663350400000  663436800000   \n",
       "600000.SH  663177600000  663264000000  663350400000  663436800000   \n",
       "\n",
       "               19910111      19910114      19910115      19910116  \\\n",
       "000001.SZ  663523200000  663782400000  663868800000  663955200000   \n",
       "600000.SH  663523200000  663782400000  663868800000  663955200000   \n",
       "\n",
       "               19910117      19910118  ...       20041222       20041223  \\\n",
       "000001.SZ  664041600000  664128000000  ...  1103644800000  1103731200000   \n",
       "600000.SH  664041600000  664128000000  ...  1103644800000  1103731200000   \n",
       "\n",
       "                20041224       20041227       20041228       20041229  \\\n",
       "000001.SZ  1103817600000  1104076800000  1104163200000  1104249600000   \n",
       "600000.SH  1103817600000  1104076800000  1104163200000  1104249600000   \n",
       "\n",
       "                20041230       20041231       20050104       20050105  \n",
       "000001.SZ  1104336000000  1104422400000  1104768000000  1104854400000  \n",
       "600000.SH  1104336000000  1104422400000  1104768000000  1104854400000  \n",
       "\n",
       "[2 rows x 3444 columns]"
      ]
     },
     "metadata": {},
     "output_type": "display_data"
    },
    {
     "name": "stdout",
     "output_type": "stream",
     "text": [
      "<class 'pandas.core.frame.DataFrame'>\n"
     ]
    }
   ],
   "source": [
    "from xtquant.xtdata import *\n",
    "\n",
    "stocks = ['000001.SZ', '600000.SH']\n",
    "\n",
    "download_history_data(stocks[0], '1d')\n",
    "download_history_data(stocks[1], '1d')\n",
    "\n",
    "end = \"20050105\"\n",
    "bars = get_market_data(stock_list=stocks, period='1d', end_time=end, count=-1, dividend_type=\"front_ratio\")\n",
    "\n",
    "display(bars['time'])\n",
    "print(type(bars['open']))\n"
   ]
  },
  {
   "cell_type": "code",
   "execution_count": 16,
   "metadata": {},
   "outputs": [],
   "source": [
    "from xtquant.xtdata import *\n",
    "\n",
    "stocks = ['000001.SZ', '600000.SH']\n",
    "\n",
    "download_history_data(stocks[0], 'tick', start_time=\"20230604\", incrementally=True)\n",
    "download_history_data(stocks[1], 'tick',start_time=\"20230604\", incrementally=True)\n",
    "\n"
   ]
  },
  {
   "cell_type": "code",
   "execution_count": 19,
   "metadata": {},
   "outputs": [
    {
     "ename": "RuntimeError",
     "evalue": "{ \"error id\" : 10054, \"error\" : \"远程主机强迫关闭了一个现有的连接。\", \"isNetError\" : true }",
     "output_type": "error",
     "traceback": [
      "\u001b[1;31m---------------------------------------------------------------------------\u001b[0m",
      "\u001b[1;31mRuntimeError\u001b[0m                              Traceback (most recent call last)",
      "\u001b[1;32md:\\pyqmt\\notebooks\\data.ipynb Cell 4\u001b[0m line \u001b[0;36m2\n\u001b[0;32m      <a href='vscode-notebook-cell://ssh-remote%2Bhub/d%3A/pyqmt/notebooks/data.ipynb#W3sdnNjb2RlLXJlbW90ZQ%3D%3D?line=0'>1</a>\u001b[0m end \u001b[39m=\u001b[39m \u001b[39m\"\u001b[39m\u001b[39m20231206\u001b[39m\u001b[39m\"\u001b[39m\n\u001b[1;32m----> <a href='vscode-notebook-cell://ssh-remote%2Bhub/d%3A/pyqmt/notebooks/data.ipynb#W3sdnNjb2RlLXJlbW90ZQ%3D%3D?line=1'>2</a>\u001b[0m bars \u001b[39m=\u001b[39m get_market_data(stock_list\u001b[39m=\u001b[39;49mstocks, period\u001b[39m=\u001b[39;49m\u001b[39m'\u001b[39;49m\u001b[39mtick\u001b[39;49m\u001b[39m'\u001b[39;49m, end_time\u001b[39m=\u001b[39;49mend)\n",
      "File \u001b[1;32md:\\conda\\envs\\pyqmt\\lib\\site-packages\\xtquant\\xtdata.py:405\u001b[0m, in \u001b[0;36mget_market_data\u001b[1;34m(field_list, stock_list, period, start_time, end_time, count, dividend_type, fill_data)\u001b[0m\n\u001b[0;32m    402\u001b[0m         result[field] \u001b[39m=\u001b[39m pd\u001b[39m.\u001b[39mDataFrame(data[field], index \u001b[39m=\u001b[39m index[\u001b[39m0\u001b[39m], columns \u001b[39m=\u001b[39m index[\u001b[39m1\u001b[39m])\n\u001b[0;32m    403\u001b[0m     \u001b[39mreturn\u001b[39;00m result\n\u001b[1;32m--> 405\u001b[0m \u001b[39mreturn\u001b[39;00m get_market_data_ori(field_list, stock_list, period, start_time, end_time, count, dividend_type, fill_data)\n",
      "File \u001b[1;32md:\\conda\\envs\\pyqmt\\lib\\site-packages\\xtquant\\xtdata.py:335\u001b[0m, in \u001b[0;36mget_market_data_ori\u001b[1;34m(field_list, stock_list, period, start_time, end_time, count, dividend_type, fill_data, enable_read_from_server)\u001b[0m\n\u001b[0;32m    333\u001b[0m enable_read_from_local \u001b[39m=\u001b[39m period \u001b[39min\u001b[39;00m {\u001b[39m'\u001b[39m\u001b[39m1m\u001b[39m\u001b[39m'\u001b[39m, \u001b[39m'\u001b[39m\u001b[39m5m\u001b[39m\u001b[39m'\u001b[39m, \u001b[39m'\u001b[39m\u001b[39m15m\u001b[39m\u001b[39m'\u001b[39m, \u001b[39m'\u001b[39m\u001b[39m30m\u001b[39m\u001b[39m'\u001b[39m, \u001b[39m'\u001b[39m\u001b[39m1h\u001b[39m\u001b[39m'\u001b[39m, \u001b[39m'\u001b[39m\u001b[39m1d\u001b[39m\u001b[39m'\u001b[39m, \u001b[39m'\u001b[39m\u001b[39mtick\u001b[39m\u001b[39m'\u001b[39m}\n\u001b[0;32m    334\u001b[0m \u001b[39mglobal\u001b[39;00m debug_mode\n\u001b[1;32m--> 335\u001b[0m \u001b[39mreturn\u001b[39;00m client\u001b[39m.\u001b[39;49mget_market_data3(field_list, stock_list, period, start_time, end_time, count, dividend_type, fill_data, \u001b[39m'\u001b[39;49m\u001b[39mv2\u001b[39;49m\u001b[39m'\u001b[39;49m, enable_read_from_local, enable_read_from_server, debug_mode)\n",
      "\u001b[1;31mRuntimeError\u001b[0m: { \"error id\" : 10054, \"error\" : \"远程主机强迫关闭了一个现有的连接。\", \"isNetError\" : true }"
     ]
    }
   ],
   "source": [
    "end = \"20231206\"\n",
    "bars = get_market_data(stock_list=stocks, period='tick', end_time=end)\n"
   ]
  },
  {
   "cell_type": "code",
   "execution_count": null,
   "metadata": {},
   "outputs": [
    {
     "data": {
      "text/plain": [
       "3"
      ]
     },
     "execution_count": 17,
     "metadata": {},
     "output_type": "execute_result"
    }
   ],
   "source": [
    "bars['000001.SZ']\n"
   ]
  },
  {
   "cell_type": "code",
   "execution_count": 2,
   "metadata": {},
   "outputs": [
    {
     "name": "stdout",
     "output_type": "stream",
     "text": [
      "\u001b[1;31mSignature:\u001b[0m\n",
      "\u001b[0mget_market_data\u001b[0m\u001b[1;33m(\u001b[0m\u001b[1;33m\n",
      "\u001b[0m    \u001b[0mfield_list\u001b[0m\u001b[1;33m=\u001b[0m\u001b[1;33m[\u001b[0m\u001b[1;33m]\u001b[0m\u001b[1;33m,\u001b[0m\u001b[1;33m\n",
      "\u001b[0m    \u001b[0mstock_list\u001b[0m\u001b[1;33m=\u001b[0m\u001b[1;33m[\u001b[0m\u001b[1;33m]\u001b[0m\u001b[1;33m,\u001b[0m\u001b[1;33m\n",
      "\u001b[0m    \u001b[0mperiod\u001b[0m\u001b[1;33m=\u001b[0m\u001b[1;34m'1d'\u001b[0m\u001b[1;33m,\u001b[0m\u001b[1;33m\n",
      "\u001b[0m    \u001b[0mstart_time\u001b[0m\u001b[1;33m=\u001b[0m\u001b[1;34m''\u001b[0m\u001b[1;33m,\u001b[0m\u001b[1;33m\n",
      "\u001b[0m    \u001b[0mend_time\u001b[0m\u001b[1;33m=\u001b[0m\u001b[1;34m''\u001b[0m\u001b[1;33m,\u001b[0m\u001b[1;33m\n",
      "\u001b[0m    \u001b[0mcount\u001b[0m\u001b[1;33m=\u001b[0m\u001b[1;33m-\u001b[0m\u001b[1;36m1\u001b[0m\u001b[1;33m,\u001b[0m\u001b[1;33m\n",
      "\u001b[0m    \u001b[0mdividend_type\u001b[0m\u001b[1;33m=\u001b[0m\u001b[1;34m'none'\u001b[0m\u001b[1;33m,\u001b[0m\u001b[1;33m\n",
      "\u001b[0m    \u001b[0mfill_data\u001b[0m\u001b[1;33m=\u001b[0m\u001b[1;32mTrue\u001b[0m\u001b[1;33m,\u001b[0m\u001b[1;33m\n",
      "\u001b[0m\u001b[1;33m)\u001b[0m\u001b[1;33m\u001b[0m\u001b[1;33m\u001b[0m\u001b[0m\n",
      "\u001b[1;31mDocstring:\u001b[0m\n",
      "获取历史行情数据\n",
      ":param field_list: 行情数据字段列表，[]为全部字段\n",
      "    K线可选字段：\n",
      "        \"time\"                #时间戳\n",
      "        \"open\"                #开盘价\n",
      "        \"high\"                #最高价\n",
      "        \"low\"                 #最低价\n",
      "        \"close\"               #收盘价\n",
      "        \"volume\"              #成交量\n",
      "        \"amount\"              #成交额\n",
      "        \"settle\"              #今结算\n",
      "        \"openInterest\"        #持仓量\n",
      "    分笔可选字段：\n",
      "        \"time\"                #时间戳\n",
      "        \"lastPrice\"           #最新价\n",
      "        \"open\"                #开盘价\n",
      "        \"high\"                #最高价\n",
      "        \"low\"                 #最低价\n",
      "        \"lastClose\"           #前收盘价\n",
      "        \"amount\"              #成交总额\n",
      "        \"volume\"              #成交总量\n",
      "        \"pvolume\"             #原始成交总量\n",
      "        \"stockStatus\"         #证券状态\n",
      "        \"openInt\"             #持仓量\n",
      "        \"lastSettlementPrice\" #前结算\n",
      "        \"askPrice1\", \"askPrice2\", \"askPrice3\", \"askPrice4\", \"askPrice5\" #卖一价~卖五价\n",
      "        \"bidPrice1\", \"bidPrice2\", \"bidPrice3\", \"bidPrice4\", \"bidPrice5\" #买一价~买五价\n",
      "        \"askVol1\", \"askVol2\", \"askVol3\", \"askVol4\", \"askVol5\"           #卖一量~卖五量\n",
      "        \"bidVol1\", \"bidVol2\", \"bidVol3\", \"bidVol4\", \"bidVol5\"           #买一量~买五量\n",
      ":param stock_list: 股票代码 \"000001.SZ\"\n",
      ":param period: 周期 分笔\"tick\" 分钟线\"1m\"/\"5m\"/\"15m\" 日线\"1d\"\n",
      "    Level2行情快照\"l2quote\" Level2行情快照补充\"l2quoteaux\" Level2逐笔委托\"l2order\" Level2逐笔成交\"l2transaction\" Level2大单统计\"l2transactioncount\" Level2委买委卖队列\"l2orderqueue\"\n",
      "    Level1逐笔成交统计一分钟“transactioncount1m” Level1逐笔成交统计日线“transactioncount1d”\n",
      "    期货仓单“warehousereceipt” 期货席位“futureholderrank” 互动问答“interactiveqa”\n",
      ":param start_time: 起始时间 \"20200101\" \"20200101093000\"\n",
      ":param end_time: 结束时间 \"20201231\" \"20201231150000\"\n",
      ":param count: 数量 -1全部/n: 从结束时间向前数n个\n",
      ":param dividend_type: 除权类型\"none\" \"front\" \"back\" \"front_ratio\" \"back_ratio\"\n",
      ":param fill_data: 对齐时间戳时是否填充数据，仅对K线有效，分笔周期不对齐时间戳\n",
      "    为True时，以缺失数据的前一条数据填充\n",
      "        open、high、low、close 为前一条数据的close\n",
      "        amount、volume为0\n",
      "        settle、openInterest 和前一条数据相同\n",
      "    为False时，缺失数据所有字段填NaN\n",
      ":return: 数据集，分笔数据和K线数据格式不同\n",
      "    period为'tick'时：{stock1 : value1, stock2 : value2, ...}\n",
      "        stock1, stock2, ... : 合约代码\n",
      "        value1, value2, ... : np.ndarray 数据列表，按time增序排列\n",
      "    period为其他K线周期时：{field1 : value1, field2 : value2, ...}\n",
      "        field1, field2, ... : 数据字段\n",
      "        value1, value2, ... : pd.DataFrame 字段对应的数据，各字段维度相同，index为stock_list，columns为time_list\n",
      "\u001b[1;31mFile:\u001b[0m      d:\\conda\\envs\\xt\\lib\\site-packages\\xtquant\\xtdata.py\n",
      "\u001b[1;31mType:\u001b[0m      function"
     ]
    }
   ],
   "source": [
    "get_market_data?\n"
   ]
  },
  {
   "cell_type": "code",
   "execution_count": 18,
   "metadata": {},
   "outputs": [
    {
     "name": "stdout",
     "output_type": "stream",
     "text": [
      "{'finished': 1, 'total': 1, 'stockcode': '', 'message': '001317.SZ'}\n",
      "download_history_data2 finished\n",
      "          603909.SH  300450.SZ  600740.SH\n",
      "20231129      11.87      26.40       5.22\n",
      "20231130      11.81      26.16       5.18\n",
      "20231201      11.91      25.91       5.25\n",
      "20231204      11.90      25.49       5.29\n",
      "20231205      11.61      25.10       5.21\n"
     ]
    }
   ],
   "source": [
    "from xtquant.xtdata import download_history_data2\n",
    "\n",
    "def on_progress(data):\n",
    "    '''补充历史数据回调函数'''\n",
    "    print(data) \n",
    "    \n",
    "\n",
    "stock_list = ['603909.SH','300450.SZ','600740.SH']\n",
    "field_list = ['time','open','close','low','high','volume']\n",
    "\n",
    "# download_history_data2(stock_list, period='1d', start_time='20230201', end_time='20230223', callback=on_progress)\n",
    "\n",
    "print('download_history_data2 finished')\n",
    "\n",
    "# 获取股票close数据\n",
    "ret = get_market_data(field_list, stock_list, period='1d', start_time='', end_time='', count=5, dividend_type='front', fill_data=True)\n",
    "print(ret['close'].T)\n"
   ]
  },
  {
   "cell_type": "markdown",
   "metadata": {},
   "source": [
    "## 除权数据"
   ]
  },
  {
   "cell_type": "code",
   "execution_count": 8,
   "metadata": {},
   "outputs": [
    {
     "data": {
      "text/html": [
       "<div>\n",
       "<style scoped>\n",
       "    .dataframe tbody tr th:only-of-type {\n",
       "        vertical-align: middle;\n",
       "    }\n",
       "\n",
       "    .dataframe tbody tr th {\n",
       "        vertical-align: top;\n",
       "    }\n",
       "\n",
       "    .dataframe thead th {\n",
       "        text-align: right;\n",
       "    }\n",
       "</style>\n",
       "<table border=\"1\" class=\"dataframe\">\n",
       "  <thead>\n",
       "    <tr style=\"text-align: right;\">\n",
       "      <th></th>\n",
       "      <th>time</th>\n",
       "      <th>interest</th>\n",
       "      <th>stockBonus</th>\n",
       "      <th>stockGift</th>\n",
       "      <th>allotNum</th>\n",
       "      <th>allotPrice</th>\n",
       "      <th>gugai</th>\n",
       "      <th>dr</th>\n",
       "    </tr>\n",
       "  </thead>\n",
       "  <tbody>\n",
       "    <tr>\n",
       "      <th>20070620</th>\n",
       "      <td>1.182269e+12</td>\n",
       "      <td>0.0090</td>\n",
       "      <td>0.0</td>\n",
       "      <td>0.0</td>\n",
       "      <td>0.0</td>\n",
       "      <td>0.0</td>\n",
       "      <td>1.0</td>\n",
       "      <td>1.000313</td>\n",
       "    </tr>\n",
       "    <tr>\n",
       "      <th>20081031</th>\n",
       "      <td>1.225382e+12</td>\n",
       "      <td>0.0335</td>\n",
       "      <td>0.3</td>\n",
       "      <td>0.0</td>\n",
       "      <td>0.0</td>\n",
       "      <td>0.0</td>\n",
       "      <td>0.0</td>\n",
       "      <td>1.304498</td>\n",
       "    </tr>\n",
       "    <tr>\n",
       "      <th>20121019</th>\n",
       "      <td>1.350576e+12</td>\n",
       "      <td>0.1000</td>\n",
       "      <td>0.0</td>\n",
       "      <td>0.0</td>\n",
       "      <td>0.0</td>\n",
       "      <td>0.0</td>\n",
       "      <td>0.0</td>\n",
       "      <td>1.007457</td>\n",
       "    </tr>\n",
       "    <tr>\n",
       "      <th>20130620</th>\n",
       "      <td>1.371658e+12</td>\n",
       "      <td>0.1700</td>\n",
       "      <td>0.6</td>\n",
       "      <td>0.0</td>\n",
       "      <td>0.0</td>\n",
       "      <td>0.0</td>\n",
       "      <td>0.0</td>\n",
       "      <td>1.614093</td>\n",
       "    </tr>\n",
       "    <tr>\n",
       "      <th>20140612</th>\n",
       "      <td>1.402502e+12</td>\n",
       "      <td>0.1600</td>\n",
       "      <td>0.0</td>\n",
       "      <td>0.2</td>\n",
       "      <td>0.0</td>\n",
       "      <td>0.0</td>\n",
       "      <td>0.0</td>\n",
       "      <td>1.216942</td>\n",
       "    </tr>\n",
       "    <tr>\n",
       "      <th>20150413</th>\n",
       "      <td>1.428854e+12</td>\n",
       "      <td>0.1740</td>\n",
       "      <td>0.0</td>\n",
       "      <td>0.2</td>\n",
       "      <td>0.0</td>\n",
       "      <td>0.0</td>\n",
       "      <td>0.0</td>\n",
       "      <td>1.210268</td>\n",
       "    </tr>\n",
       "    <tr>\n",
       "      <th>20160616</th>\n",
       "      <td>1.466006e+12</td>\n",
       "      <td>0.1530</td>\n",
       "      <td>0.0</td>\n",
       "      <td>0.2</td>\n",
       "      <td>0.0</td>\n",
       "      <td>0.0</td>\n",
       "      <td>0.0</td>\n",
       "      <td>1.218203</td>\n",
       "    </tr>\n",
       "    <tr>\n",
       "      <th>20170721</th>\n",
       "      <td>1.500566e+12</td>\n",
       "      <td>0.1580</td>\n",
       "      <td>0.0</td>\n",
       "      <td>0.0</td>\n",
       "      <td>0.0</td>\n",
       "      <td>0.0</td>\n",
       "      <td>0.0</td>\n",
       "      <td>1.014801</td>\n",
       "    </tr>\n",
       "    <tr>\n",
       "      <th>20180712</th>\n",
       "      <td>1.531325e+12</td>\n",
       "      <td>0.1360</td>\n",
       "      <td>0.0</td>\n",
       "      <td>0.0</td>\n",
       "      <td>0.0</td>\n",
       "      <td>0.0</td>\n",
       "      <td>0.0</td>\n",
       "      <td>1.016203</td>\n",
       "    </tr>\n",
       "    <tr>\n",
       "      <th>20190626</th>\n",
       "      <td>1.561478e+12</td>\n",
       "      <td>0.1450</td>\n",
       "      <td>0.0</td>\n",
       "      <td>0.0</td>\n",
       "      <td>0.0</td>\n",
       "      <td>0.0</td>\n",
       "      <td>0.0</td>\n",
       "      <td>1.010534</td>\n",
       "    </tr>\n",
       "    <tr>\n",
       "      <th>20200528</th>\n",
       "      <td>1.590595e+12</td>\n",
       "      <td>0.2180</td>\n",
       "      <td>0.0</td>\n",
       "      <td>0.0</td>\n",
       "      <td>0.0</td>\n",
       "      <td>0.0</td>\n",
       "      <td>0.0</td>\n",
       "      <td>1.017214</td>\n",
       "    </tr>\n",
       "    <tr>\n",
       "      <th>20210514</th>\n",
       "      <td>1.620922e+12</td>\n",
       "      <td>0.1800</td>\n",
       "      <td>0.0</td>\n",
       "      <td>0.0</td>\n",
       "      <td>0.0</td>\n",
       "      <td>0.0</td>\n",
       "      <td>0.0</td>\n",
       "      <td>1.007863</td>\n",
       "    </tr>\n",
       "    <tr>\n",
       "      <th>20220722</th>\n",
       "      <td>1.658419e+12</td>\n",
       "      <td>0.2280</td>\n",
       "      <td>0.0</td>\n",
       "      <td>0.0</td>\n",
       "      <td>0.0</td>\n",
       "      <td>0.0</td>\n",
       "      <td>0.0</td>\n",
       "      <td>1.017996</td>\n",
       "    </tr>\n",
       "    <tr>\n",
       "      <th>20230614</th>\n",
       "      <td>1.686672e+12</td>\n",
       "      <td>0.2850</td>\n",
       "      <td>0.0</td>\n",
       "      <td>0.0</td>\n",
       "      <td>0.0</td>\n",
       "      <td>0.0</td>\n",
       "      <td>0.0</td>\n",
       "      <td>1.025261</td>\n",
       "    </tr>\n",
       "  </tbody>\n",
       "</table>\n",
       "</div>"
      ],
      "text/plain": [
       "                  time  interest  stockBonus  stockGift  allotNum  allotPrice  \\\n",
       "20070620  1.182269e+12    0.0090         0.0        0.0       0.0         0.0   \n",
       "20081031  1.225382e+12    0.0335         0.3        0.0       0.0         0.0   \n",
       "20121019  1.350576e+12    0.1000         0.0        0.0       0.0         0.0   \n",
       "20130620  1.371658e+12    0.1700         0.6        0.0       0.0         0.0   \n",
       "20140612  1.402502e+12    0.1600         0.0        0.2       0.0         0.0   \n",
       "20150413  1.428854e+12    0.1740         0.0        0.2       0.0         0.0   \n",
       "20160616  1.466006e+12    0.1530         0.0        0.2       0.0         0.0   \n",
       "20170721  1.500566e+12    0.1580         0.0        0.0       0.0         0.0   \n",
       "20180712  1.531325e+12    0.1360         0.0        0.0       0.0         0.0   \n",
       "20190626  1.561478e+12    0.1450         0.0        0.0       0.0         0.0   \n",
       "20200528  1.590595e+12    0.2180         0.0        0.0       0.0         0.0   \n",
       "20210514  1.620922e+12    0.1800         0.0        0.0       0.0         0.0   \n",
       "20220722  1.658419e+12    0.2280         0.0        0.0       0.0         0.0   \n",
       "20230614  1.686672e+12    0.2850         0.0        0.0       0.0         0.0   \n",
       "\n",
       "          gugai        dr  \n",
       "20070620    1.0  1.000313  \n",
       "20081031    0.0  1.304498  \n",
       "20121019    0.0  1.007457  \n",
       "20130620    0.0  1.614093  \n",
       "20140612    0.0  1.216942  \n",
       "20150413    0.0  1.210268  \n",
       "20160616    0.0  1.218203  \n",
       "20170721    0.0  1.014801  \n",
       "20180712    0.0  1.016203  \n",
       "20190626    0.0  1.010534  \n",
       "20200528    0.0  1.017214  \n",
       "20210514    0.0  1.007863  \n",
       "20220722    0.0  1.017996  \n",
       "20230614    0.0  1.025261  "
      ]
     },
     "execution_count": 8,
     "metadata": {},
     "output_type": "execute_result"
    }
   ],
   "source": [
    "code = \"000001.SZ\"\n",
    "get_divid_factors(code, start_time='20050104', end_time='')\n"
   ]
  },
  {
   "attachments": {},
   "cell_type": "markdown",
   "metadata": {},
   "source": [
    "## 如果数据没有缓存，则get_market_data会失败"
   ]
  },
  {
   "cell_type": "code",
   "execution_count": 110,
   "metadata": {},
   "outputs": [
    {
     "name": "stdout",
     "output_type": "stream",
     "text": [
      "Empty DataFrame\n",
      "Columns: [000004.SZ]\n",
      "Index: []\n",
      "{'time': Empty DataFrame\n",
      "Columns: []\n",
      "Index: [000004.SZ], 'open': Empty DataFrame\n",
      "Columns: []\n",
      "Index: [000004.SZ], 'close': Empty DataFrame\n",
      "Columns: []\n",
      "Index: [000004.SZ], 'low': Empty DataFrame\n",
      "Columns: []\n",
      "Index: [000004.SZ], 'high': Empty DataFrame\n",
      "Columns: []\n",
      "Index: [000004.SZ], 'volume': Empty DataFrame\n",
      "Columns: []\n",
      "Index: [000004.SZ]}\n"
     ]
    }
   ],
   "source": [
    "ret = get_market_data(field_list, ['000004.SZ'], period='1d', start_time='', count=5, dividend_type='front', fill_data=True)\n",
    "\n",
    "print(ret['close'].T)\n",
    "print(ret)\n"
   ]
  },
  {
   "cell_type": "code",
   "execution_count": null,
   "metadata": {},
   "outputs": [],
   "source": [
    "import pandas as pd\n",
    "import datetime\n",
    "from xtquant import xtdata\n",
    "\n",
    "def get_tick(code, start_time, end_time, period='tick'):\n",
    "    xtdata.download_history_data(code, period=period, start_time=start_time, end_time=end_time)\n",
    "    data = xtdata.get_local_data(field_list=[], stock_list=[code], period=period, count=10)\n",
    "    result_list = data[code]\n",
    "    df = pd.DataFrame(result_list)\n",
    "\n",
    "    df['time_str'] = df['time'].apply(lambda x: datetime.datetime.fromtimestamp(x / 1000.0))\n",
    "    return df\n",
    "\n",
    "\n",
    "def process_timestamp(df, filename):\n",
    "    df = df.set_index('time_str')\n",
    "    result = df.resample('3S').first().ffill()\n",
    "    # result = result[(result.index >= '2022-07-20 09:30') & (result.index <= '2022-07-20 15:00')]\n",
    "    result = result.reset_index()\n",
    "    result.to_csv(filename + '.csv')\n",
    "\n",
    "\n",
    "def dump_single_code_tick():\n",
    "    # 导出单个转债的tick数据\n",
    "    code='128022'\n",
    "    start_date = '20210113'\n",
    "    end_date = '20210130'\n",
    "\n",
    "    post_fix = 'SZ' if code.startswith('12') else 'SH'\n",
    "    code = '{}.{}'.format(code,post_fix)\n",
    "    df = get_tick(code, start_date, end_date)\n",
    "    return df\n",
    "\n",
    "dump_single_code_tick()\n"
   ]
  },
  {
   "attachments": {},
   "cell_type": "markdown",
   "metadata": {},
   "source": [
    "## get_full_tick"
   ]
  },
  {
   "cell_type": "code",
   "execution_count": null,
   "metadata": {},
   "outputs": [],
   "source": [
    "from xtquant.xtdata import get_full_tick,get_divid_factors\n",
    "\n",
    "get_full_tick(['SH'])\n",
    "get_divid_factors('000001.SZ', start_time='', end_time='')\n"
   ]
  },
  {
   "cell_type": "code",
   "execution_count": null,
   "metadata": {},
   "outputs": [],
   "source": [
    "from xtquant.xtdata import get_l2_quote\n",
    "get_l2_quote(field_list=[], stock_code='', start_time='', end_time='', count=-1)\n"
   ]
  },
  {
   "cell_type": "code",
   "execution_count": null,
   "metadata": {},
   "outputs": [],
   "source": [
    "code = '000001.SZ'\n",
    "get_instrument_detail(code)\n"
   ]
  },
  {
   "attachments": {},
   "cell_type": "markdown",
   "metadata": {},
   "source": [
    "## 获取交易日历\n",
    "注意返回时间是毫秒单位，如果我们用datetime.datetime来转换，需要除以1000\n",
    "也可以用numpy来转换"
   ]
  },
  {
   "cell_type": "code",
   "execution_count": null,
   "metadata": {},
   "outputs": [],
   "source": [
    "days = get_trading_dates('SH', start_time='', end_time='', count=10)\n",
    "import numpy as np\n",
    "np.array(days, dtype='datetime64[ms]').astype(datetime.date)\n",
    "\n"
   ]
  },
  {
   "cell_type": "code",
   "execution_count": null,
   "metadata": {},
   "outputs": [],
   "source": [
    "get_trading_dates('SH', end_time='20230908', count=10)\n"
   ]
  },
  {
   "attachments": {},
   "cell_type": "markdown",
   "metadata": {},
   "source": [
    "### 时间戳转换函数"
   ]
  },
  {
   "cell_type": "code",
   "execution_count": null,
   "metadata": {},
   "outputs": [],
   "source": [
    "\n",
    "import time\n",
    "def conv_time(ct):\n",
    "    '''\n",
    "    conv_time(1476374400000) --> '20161014000000.000'\n",
    "    '''\n",
    "    local_time = time.localtime(ct / 1000)\n",
    "    data_head = time.strftime('%Y%m%d%H%M%S', local_time)\n",
    "    data_secs = (ct - int(ct)) * 1000\n",
    "    time_stamp = '%s.%03d' % (data_head, data_secs)\n",
    "    return time_stamp\n",
    "\n",
    "conv_time(1693152000000)\n"
   ]
  },
  {
   "cell_type": "code",
   "execution_count": null,
   "metadata": {},
   "outputs": [],
   "source": [
    "import time\n",
    "time.time()\n",
    "\n",
    "import datetime\n",
    "\n",
    "datetime.datetime.fromtimestamp(1694448000)\n"
   ]
  },
  {
   "attachments": {},
   "cell_type": "markdown",
   "metadata": {},
   "source": [
    "## 获取板块列表\n",
    "析块列表没有索引，以字符串格式返回，也没有时间标签\n",
    "获取板块名字后，直接通过板块名字来获取成份股"
   ]
  },
  {
   "cell_type": "code",
   "execution_count": 2,
   "metadata": {},
   "outputs": [
    {
     "name": "stdout",
     "output_type": "stream",
     "text": [
      "['上期所', '上证A股', '上证B股', '上证期权', '上证转债', '中金所', '创业板', '大商所', '板块加权指数', '板块指数', '概念指数', '沪市ETF', '沪市债券', '沪市基金', '沪市指数', '沪深A股', '沪深B股', '沪深ETF', '沪深债券', '沪深基金', '沪深指数', '沪深转债', '沪港通', '深市ETF', '深市债券', '深市基金', '深市指数', '深港通', '深证A股', '深证B股', '深证期权', '深证转债', '科创板', '科创板CDR', '证监会行业板块指数', '迅投一级行业板块加权指数', '迅投一级行业板块指数', '迅投三级行业板块加权指数', '迅投三级行业板块指数', '迅投二级行业板块加权指数', '迅投二级行业板块指数', '连续合约', '郑商所', '香港联交所指数', '香港联交所股票']\n"
     ]
    },
    {
     "data": {
      "text/plain": [
       "[]"
      ]
     },
     "execution_count": 2,
     "metadata": {},
     "output_type": "execute_result"
    }
   ],
   "source": [
    "print(get_sector_list())\n",
    "get_stock_list_in_sector(\"TGN芯片概念\")\"sync.1d.from\": \"20231101\",\n",
    "    \"sync.1m.from\": \"20231101\",\n",
    "    \"sync.1d.to\": \"20231204\",\n",
    "    \"sync.1m.to\": \"20231204\",\n",
    "    \"synced.1d.start\": \"20231101\",\n"
   ]
  },
  {
   "cell_type": "code",
   "execution_count": 3,
   "metadata": {},
   "outputs": [],
   "source": [
    "download_sector_data()\n"
   ]
  },
  {
   "cell_type": "code",
   "execution_count": 4,
   "metadata": {},
   "outputs": [
    {
     "data": {
      "text/plain": [
       "5084"
      ]
     },
     "execution_count": 4,
     "metadata": {},
     "output_type": "execute_result"
    }
   ],
   "source": [
    "len(get_stock_list_in_sector('沪深A股'))\n"
   ]
  },
  {
   "cell_type": "code",
   "execution_count": null,
   "metadata": {},
   "outputs": [],
   "source": [
    "from collections import defaultdict\n",
    "\n",
    "sectors = defaultdict(list)\n",
    "prefixes = [\n",
    "    '1000SW', '500SW', '300SW', 'CSRC', '迅投一级', '迅投二级', '迅投三级', 'HKSW',\n",
    "'TGN', 'TDY', 'THY', 'DY1', 'DY2', 'SW1', 'SW2', 'SW3', 'ETF','GN', '转债', '国证', '上证', '沪深', '中证','深证'\n",
    "]\n",
    "for item in get_sector_list():\n",
    "    for i in range(6, 1, -1):\n",
    "        key = item[:i]\n",
    "\n",
    "        if key in prefixes:\n",
    "            sectors[key].append(item)\n",
    "            break\n",
    "    else:\n",
    "        sectors['NA'].append(item)\n",
    "\n",
    "print(sectors['GN'][:10])\n",
    "all_stocks = get_stock_list_in_sector('沪深A股')\n",
    "print(f\"当前共计{len(all_stocks)}股A股\")\n",
    "print(all_stocks[:5])\n"
   ]
  },
  {
   "cell_type": "code",
   "execution_count": null,
   "metadata": {},
   "outputs": [],
   "source": [
    "get_instrument_detail('000001.SZ')\n"
   ]
  },
  {
   "cell_type": "code",
   "execution_count": 119,
   "metadata": {},
   "outputs": [
    {
     "name": "stdout",
     "output_type": "stream",
     "text": [
      "on_account_statuson_account_status\n",
      "55010149 2 1\n",
      "on_account_status\n",
      "55010149 2 1\n",
      "\n",
      "55010149 2 1\n",
      "on_account_status\n",
      "55010149 2 1\n",
      "on_account_status\n",
      "55010149 2 0\n",
      "on_account_status\n",
      "55010149 2 0\n",
      "on_account_status\n",
      "55010149 2 0\n",
      "on_account_status\n",
      "55010149 2 0\n"
     ]
    }
   ],
   "source": [
    "#coding=utf-8\n",
    "from xtquant.xttrader import XtQuantTrader, XtQuantTraderCallback\n",
    "from xtquant.xttype import StockAccount\n",
    "from xtquant import xtconstant\n",
    "import numpy as np\n",
    "\n",
    "\n",
    "class MyXtQuantTraderCallback(XtQuantTraderCallback):\n",
    "    def on_disconnected(self):\n",
    "        \"\"\"\n",
    "        连接断开\n",
    "        :return:\n",
    "        \"\"\"\n",
    "        print(\"connection lost\")\n",
    "\n",
    "    def on_stock_order(self, order):\n",
    "        \"\"\"\n",
    "        委托回报推送\n",
    "        :param order: XtOrder对象\n",
    "        :return:\n",
    "        \"\"\"\n",
    "        print(\"on order callback:\")\n",
    "        print(order.stock_code, order.order_status, order.order_sysid)\n",
    " \n",
    "    def on_stock_trade(self, trade):\n",
    "        \"\"\"\n",
    "        成交变动推送\n",
    "        :param trade: XtTrade对象\n",
    "        :return:\n",
    "        \"\"\"\n",
    "        print(\"on trade callback\")\n",
    "        print(trade.account_id, trade.stock_code, trade.order_id)\n",
    "\n",
    "    def on_stock_position(self, position):\n",
    "        \"\"\"\n",
    "        持仓变动推送  注意，该回调函数目前不生效\n",
    "        :param position: XtPosition对象\n",
    "        :return:\n",
    "        \"\"\"\n",
    "        print(\"on position callback\")\n",
    "        print(position.stock_code, position.volume)\n",
    "\n",
    "    def on_order_error(self, order_error):\n",
    "        \"\"\"\n",
    "        委托失败推送\n",
    "        :param order_error:XtOrderError 对象\n",
    "        :return:\n",
    "        \"\"\"\n",
    "        print(\"on order_error callback\")\n",
    "        print(order_error.order_id, order_error.error_id, order_error.error_msg)\n",
    "\n",
    "    def on_cancel_error(self, cancel_error):\n",
    "        \"\"\"\n",
    "        撤单失败推送\n",
    "        :param cancel_error: XtCancelError 对象\n",
    "        :return:\n",
    "        \"\"\"\n",
    "        print(\"on cancel_error callback\")\n",
    "        print(cancel_error.order_id, cancel_error.error_id, cancel_error.error_msg)\n",
    "\n",
    "    def on_order_stock_async_response(self, response):\n",
    "        \"\"\"\n",
    "        异步下单回报推送\n",
    "        :param response: XtOrderResponse 对象\n",
    "        :return:\n",
    "        \"\"\"\n",
    "        print(\"on_order_stock_async_response\")\n",
    "        print(response.account_id, response.order_id, response.seq)\n",
    "\n",
    "    def on_account_status(self, status):\n",
    "        \"\"\"\n",
    "        :param response: XtAccountStatus 对象\n",
    "        :return:\n",
    "        \"\"\"\n",
    "        print(\"on_account_status\")\n",
    "        print(status.account_id, status.account_type, status.status)\n",
    "\n",
    "# path为mini qmt客户端安装目录下userdata_mini路径\n",
    "path = 'D:\\\\国金QMT交易端模拟\\\\userdata_mini'\n",
    "session_id = np.random.randint(20000, 60000)\n",
    "xt_trader = XtQuantTrader(path, session_id)\n",
    "\n",
    "# path为mini qmt客户端安装目录下userdata_mini路径\n",
    "path = 'D:\\\\国金QMT交易端模拟\\\\userdata_mini'\n",
    "\n",
    "session_id = np.random.randint(20000, 60000)\n",
    "xt_trader = XtQuantTrader(path, session_id)\n",
    "\n",
    "# 创建交易回调类对象，并声明接收回调\n",
    "callback = MyXtQuantTraderCallback()\n",
    "xt_trader.register_callback(callback)\n",
    "\n",
    "# 启动交易线程\n",
    "xt_trader.start()\n",
    "# 建立交易连接，返回0表示连接成功\n",
    "connect_result = xt_trader.connect()\n",
    "assert connect_result == 0\n",
    "\n",
    "acc = StockAccount('55010149', 'STOCK')\n",
    "# 对交易回调进行订阅，订阅后可以收到交易主推，返回0表示订阅成功\n",
    "subscribe_result = xt_trader.subscribe(acc)\n",
    "assert subscribe_result == 0\n"
   ]
  },
  {
   "cell_type": "code",
   "execution_count": 120,
   "metadata": {},
   "outputs": [
    {
     "name": "stdout",
     "output_type": "stream",
     "text": [
      "order using the fix price:\n",
      "1082130435\n",
      "cancel order:\n",
      "0\n",
      "order using async api:\n",
      "1267\n",
      "query asset:\n",
      "asset:\n",
      "cash 19983155.84\n",
      "query order:\n"
     ]
    },
    {
     "name": "stdout",
     "output_type": "stream",
     "text": [
      "on order callback:\n",
      "600000.SH 50 23923\n",
      "on order callback:\n",
      "600000.SH 50 23923\n",
      "on order callback:\n",
      "600000.SH 50 23923\n",
      "on order callback:\n",
      "600000.SH 50 23923\n",
      "on_order_stock_async_response\n",
      "55010149 1082130436 1267\n",
      "on cancel_error callback\n",
      "1082130435 26 [AGENT] [COUNTER] [251020][委托状态错误不能撤单]\n",
      "[old_entrust_status=1]\n",
      "\n",
      "\n",
      "on order callback:\n",
      "600000.SH 50 23924\n",
      "on order callback:\n",
      "600000.SH 50 23924\n",
      "on order callback:\n",
      "600000.SH 50 23924\n",
      "on order callback:\n",
      "600000.SH 50 23924\n"
     ]
    }
   ],
   "source": [
    "\n",
    "stock_code = '600000.SH'\n",
    "# 使用指定价下单，接口返回订单编号，后续可以用于撤单操作以及查询委托状态\n",
    "print(\"order using the fix price:\")\n",
    "fix_result_order_id = xt_trader.order_stock(acc, stock_code, xtconstant.STOCK_BUY, 200, xtconstant.FIX_PRICE, 10.5, 'strategy_name', 'remark')\n",
    "print(fix_result_order_id)\n",
    "\n",
    "# 使用订单编号撤单\n",
    "print(\"cancel order:\")\n",
    "cancel_order_result = xt_trader.cancel_order_stock(acc, fix_result_order_id)\n",
    "print(cancel_order_result)\n",
    "\n",
    "# 使用异步下单接口，接口返回下单请求序号seq，seq可以和on_order_stock_async_response的委托反馈response对应起来\n",
    "print(\"order using async api:\")\n",
    "async_seq = xt_trader.order_stock_async(acc, stock_code, xtconstant.STOCK_BUY, 200, xtconstant.FIX_PRICE, 10.5, 'strategy_name', 'remark')\n",
    "print(async_seq)\n",
    "\n",
    "# 查询证券资产\n",
    "print(\"query asset:\")\n",
    "asset = xt_trader.query_stock_asset(acc)\n",
    "if asset:\n",
    "    print(\"asset:\")\n",
    "    print(\"cash {0}\".format(asset.cash))\n",
    "\n",
    "# 根据订单编号查询委托\n",
    "print(\"query order:\")\n",
    "order = xt_trader.query_stock_order(acc, fix_result_order_id)\n",
    "if order:\n",
    "    print(\"order:\")\n",
    "    print(\"order {0}\".format(order.order_id))\n",
    "\n",
    "    # 阻塞线程，接收交易推送\n",
    "    # xt_trader.run_forever()\n"
   ]
  },
  {
   "cell_type": "code",
   "execution_count": 121,
   "metadata": {},
   "outputs": [
    {
     "name": "stdout",
     "output_type": "stream",
     "text": [
      "\u001b[1;31mSignature:\u001b[0m\n",
      "\u001b[0mxt_trader\u001b[0m\u001b[1;33m.\u001b[0m\u001b[0morder_stock\u001b[0m\u001b[1;33m(\u001b[0m\u001b[1;33m\n",
      "\u001b[0m    \u001b[0maccount\u001b[0m\u001b[1;33m,\u001b[0m\u001b[1;33m\n",
      "\u001b[0m    \u001b[0mstock_code\u001b[0m\u001b[1;33m,\u001b[0m\u001b[1;33m\n",
      "\u001b[0m    \u001b[0morder_type\u001b[0m\u001b[1;33m,\u001b[0m\u001b[1;33m\n",
      "\u001b[0m    \u001b[0morder_volume\u001b[0m\u001b[1;33m,\u001b[0m\u001b[1;33m\n",
      "\u001b[0m    \u001b[0mprice_type\u001b[0m\u001b[1;33m,\u001b[0m\u001b[1;33m\n",
      "\u001b[0m    \u001b[0mprice\u001b[0m\u001b[1;33m,\u001b[0m\u001b[1;33m\n",
      "\u001b[0m    \u001b[0mstrategy_name\u001b[0m\u001b[1;33m=\u001b[0m\u001b[1;34m''\u001b[0m\u001b[1;33m,\u001b[0m\u001b[1;33m\n",
      "\u001b[0m    \u001b[0morder_remark\u001b[0m\u001b[1;33m=\u001b[0m\u001b[1;34m''\u001b[0m\u001b[1;33m,\u001b[0m\u001b[1;33m\n",
      "\u001b[0m\u001b[1;33m)\u001b[0m\u001b[1;33m\u001b[0m\u001b[1;33m\u001b[0m\u001b[0m\n",
      "\u001b[1;31mDocstring:\u001b[0m\n",
      ":param account: 证券账号\n",
      ":param stock_code: 证券代码, 例如\"600000.SH\"\n",
      ":param order_type: 委托类型, 23:买, 24:卖\n",
      ":param order_volume: 委托数量, 股票以'股'为单位, 债券以'张'为单位\n",
      ":param price_type: 报价类型, 详见帮助手册\n",
      ":param price: 报价价格, 如果price_type为指定价, 那price为指定的价格, 否则填0\n",
      ":param strategy_name: 策略名称\n",
      ":param order_remark: 委托备注\n",
      ":return: 返回下单请求序号, 成功委托后的下单请求序号为大于0的正整数, 如果为-1表示委托失败\n",
      "\u001b[1;31mFile:\u001b[0m      d:\\conda\\envs\\xt\\lib\\site-packages\\xtquant\\xttrader.py\n",
      "\u001b[1;31mType:\u001b[0m      method"
     ]
    }
   ],
   "source": [
    "xt_trader.order_stock?\n"
   ]
  },
  {
   "cell_type": "code",
   "execution_count": 33,
   "metadata": {},
   "outputs": [
    {
     "data": {
      "text/plain": [
       "<Arrow [2023-11-23T15:00:00+00:00]>"
      ]
     },
     "execution_count": 33,
     "metadata": {},
     "output_type": "execute_result"
    }
   ],
   "source": [
    "arrow.get(\"20231123150000\", \"YYYYMMDDHHmmss\")\n"
   ]
  }
 ],
 "metadata": {
  "kernelspec": {
   "display_name": "Python 3",
   "language": "python",
   "name": "python3"
  },
  "language_info": {
   "codemirror_mode": {
    "name": "ipython",
    "version": 3
   },
   "file_extension": ".py",
   "mimetype": "text/x-python",
   "name": "python",
   "nbconvert_exporter": "python",
   "pygments_lexer": "ipython3",
   "version": "0.0.0"
  },
  "orig_nbformat": 4,
  "vscode": {
   "interpreter": {
    "hash": "2192e1d22247d5aec7d0b40c1e4e0d7adb5cd1f55b12b0b2b3b5a4a67b9a6573"
   }
  }
 },
 "nbformat": 4,
 "nbformat_minor": 2
}
