{
 "cells": [
  {
   "cell_type": "code",
   "execution_count": 26,
   "metadata": {},
   "outputs": [
    {
     "name": "stdout",
     "output_type": "stream",
     "text": [
      "<class 'datetime.date'>\n"
     ]
    },
    {
     "ename": "AttributeError",
     "evalue": "'sqlite3.Row' object has no attribute 'start'",
     "output_type": "error",
     "traceback": [
      "\u001b[1;31m---------------------------------------------------------------------------\u001b[0m",
      "\u001b[1;31mAttributeError\u001b[0m                            Traceback (most recent call last)",
      "\u001b[1;32md:\\pyqmt\\notebooks\\sqlite.ipynb Cell 1\u001b[0m line \u001b[0;36m1\n\u001b[0;32m     <a href='vscode-notebook-cell://ssh-remote%2Bhub/d%3A/pyqmt/notebooks/sqlite.ipynb#W0sdnNjb2RlLXJlbW90ZQ%3D%3D?line=12'>13</a>\u001b[0m     _id, start, end, epoch, frame_type \u001b[39m=\u001b[39m record\n\u001b[0;32m     <a href='vscode-notebook-cell://ssh-remote%2Bhub/d%3A/pyqmt/notebooks/sqlite.ipynb#W0sdnNjb2RlLXJlbW90ZQ%3D%3D?line=13'>14</a>\u001b[0m     \u001b[39mprint\u001b[39m(\u001b[39mtype\u001b[39m(start))\n\u001b[1;32m---> <a href='vscode-notebook-cell://ssh-remote%2Bhub/d%3A/pyqmt/notebooks/sqlite.ipynb#W0sdnNjb2RlLXJlbW90ZQ%3D%3D?line=15'>16</a>\u001b[0m record\u001b[39m.\u001b[39;49mstart\n",
      "\u001b[1;31mAttributeError\u001b[0m: 'sqlite3.Row' object has no attribute 'start'"
     ]
    }
   ],
   "source": [
    "import sqlite3\n",
    "import cfg4py\n",
    "from coretypes import FrameType\n",
    "\n",
    "cfg = cfg4py.get_instance()\n",
    "\n",
    "cfg.sqlite = sqlite3.connect(\"d:\\\\data\\\\pyqmt.db\", detect_types=sqlite3.PARSE_DECLTYPES|sqlite3.PARSE_COLNAMES)\n",
    "cfg.sqlite.row_factory = sqlite3.Row\n",
    "cur = cfg.sqlite.cursor()\n",
    "query = cur.execute(\"select * from sync_status where frame_type = ?\", (6,))\n",
    "record = query.fetchone()\n",
    "if record is not None:\n",
    "    _id, start, end, epoch, frame_type = record\n",
    "    print(type(start))\n"
   ]
  },
  {
   "cell_type": "code",
   "execution_count": 20,
   "metadata": {},
   "outputs": [],
   "source": [
    "from arrow import Arrow\n",
    "import arrow\n",
    "def save_sync_status(start: Arrow, end: Arrow, frame_type: FrameType):\n",
    "    cur = cfg.sqlite.cursor()\n",
    "    sql = \"update sync_status set start = ?, end = ? where frame_type = ?\"\n",
    "    cur.execute(sql, (start.date(), end.date(), FrameType.to_int(frame_type)))\n",
    "    cfg.sqlite.commit()\n",
    "\n",
    "save_sync_status(arrow.get(\"2023-1-5\"), arrow.get(\"2023-5-4\"), FrameType.DAY)\n"
   ]
  },
  {
   "cell_type": "code",
   "execution_count": 25,
   "metadata": {},
   "outputs": [
    {
     "data": {
      "text/plain": [
       "<Arrow [2023-12-15T15:00:00+08:00]>"
      ]
     },
     "execution_count": 25,
     "metadata": {},
     "output_type": "execute_result"
    }
   ],
   "source": [
    "arrow.now().shift(days=-1).floor('hour').replace(hour=15)\n"
   ]
  }
 ],
 "metadata": {
  "kernelspec": {
   "display_name": "qmtserver",
   "language": "python",
   "name": "python3"
  },
  "language_info": {
   "codemirror_mode": {
    "name": "ipython",
    "version": 3
   },
   "file_extension": ".py",
   "mimetype": "text/x-python",
   "name": "python",
   "nbconvert_exporter": "python",
   "pygments_lexer": "ipython3",
   "version": "3.10.13"
  }
 },
 "nbformat": 4,
 "nbformat_minor": 2
}
