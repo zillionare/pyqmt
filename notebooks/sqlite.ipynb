{
 "cells": [
  {
   "cell_type": "code",
   "execution_count": 26,
   "metadata": {},
   "outputs": [
    {
     "name": "stdout",
     "output_type": "stream",
     "text": [
      "<class 'datetime.date'>\n"
     ]
    },
    {
     "ename": "AttributeError",
     "evalue": "'sqlite3.Row' object has no attribute 'start'",
     "output_type": "error",
     "traceback": [
      "\u001b[1;31m---------------------------------------------------------------------------\u001b[0m",
      "\u001b[1;31mAttributeError\u001b[0m                            Traceback (most recent call last)",
      "\u001b[1;32md:\\pyqmt\\notebooks\\sqlite.ipynb Cell 1\u001b[0m line \u001b[0;36m1\n\u001b[0;32m     <a href='vscode-notebook-cell://ssh-remote%2Bhub/d%3A/pyqmt/notebooks/sqlite.ipynb#W0sdnNjb2RlLXJlbW90ZQ%3D%3D?line=12'>13</a>\u001b[0m     _id, start, end, epoch, frame_type \u001b[39m=\u001b[39m record\n\u001b[0;32m     <a href='vscode-notebook-cell://ssh-remote%2Bhub/d%3A/pyqmt/notebooks/sqlite.ipynb#W0sdnNjb2RlLXJlbW90ZQ%3D%3D?line=13'>14</a>\u001b[0m     \u001b[39mprint\u001b[39m(\u001b[39mtype\u001b[39m(start))\n\u001b[1;32m---> <a href='vscode-notebook-cell://ssh-remote%2Bhub/d%3A/pyqmt/notebooks/sqlite.ipynb#W0sdnNjb2RlLXJlbW90ZQ%3D%3D?line=15'>16</a>\u001b[0m record\u001b[39m.\u001b[39;49mstart\n",
      "\u001b[1;31mAttributeError\u001b[0m: 'sqlite3.Row' object has no attribute 'start'"
     ]
    }
   ],
   "source": [
    "import sqlite3\n",
    "import cfg4py\n",
    "from coretypes import FrameType\n",
    "\n",
    "cfg = cfg4py.get_instance()\n",
    "\n",
    "cfg.chores_db = sqlite3.connect(\"d:\\\\data\\\\pyqmt.db\", detect_types=sqlite3.PARSE_DECLTYPES|sqlite3.PARSE_COLNAMES)\n",
    "cfg.chores_db.row_factory = sqlite3.Row\n",
    "cur = cfg.chores_db.cursor()\n",
    "query = cur.execute(\"select * from sync_status where frame_type = ?\", (6,))\n",
    "record = query.fetchone()\n",
    "if record is not None:\n",
    "    _id, start, end, epoch, frame_type = record\n",
    "    print(type(start))\n"
   ]
  },
  {
   "cell_type": "code",
   "execution_count": 3,
   "metadata": {},
   "outputs": [],
   "source": [
    "import pytest\n",
    "import numpy as np\n",
    "\n",
    "def sigmoid(x):\n",
    "    return 1/(1 + np.exp(-x))\n",
    "\n",
    "assert sigmoid(13) - sigmoid(26) < 1e-7\n"
   ]
  },
  {
   "cell_type": "code",
   "execution_count": 8,
   "metadata": {},
   "outputs": [
    {
     "data": {
      "text/plain": [
       "Index(['symbol', 'type'], dtype='object')"
      ]
     },
     "execution_count": 8,
     "metadata": {},
     "output_type": "execute_result"
    }
   ],
   "source": [
    "shares = [\"000001.SH\", \"000002.SZ\"]\n",
    "\n",
    "import pandas as pd\n",
    "df = pd.DataFrame(shares, columns=[\"symbol\"])\n",
    "\n",
    "df[\"symbol\"] = df[\"symbol\"].str.replace(\".SH\", \".XSHG\")\n",
    "df[\"symbol\"] = df[\"symbol\"].str.replace(\".SZ\", \".XSHE\")\n",
    "df[\"type\"] = [\"stock\"] * len(df)\n",
    "\n",
    "df.columns\n",
    "\n"
   ]
  },
  {
   "cell_type": "code",
   "execution_count": 20,
   "metadata": {},
   "outputs": [],
   "source": [
    "from arrow import Arrow\n",
    "import arrow\n",
    "def save_sync_status(start: Arrow, end: Arrow, frame_type: FrameType):\n",
    "    cur = cfg.chores_db.cursor()\n",
    "    sql = \"update sync_status set start = ?, end = ? where frame_type = ?\"\n",
    "    cur.execute(sql, (start.date(), end.date(), FrameType.to_int(frame_type)))\n",
    "    cfg.chores_db.commit()\n",
    "\n",
    "save_sync_status(arrow.get(\"2023-1-5\"), arrow.get(\"2023-5-4\"), FrameType.DAY)\n"
   ]
  },
  {
   "cell_type": "code",
   "execution_count": 3,
   "metadata": {},
   "outputs": [
    {
     "ename": "AttributeError",
     "evalue": "type object 'HaystoreTbl' has no attribute 'attr'",
     "output_type": "error",
     "traceback": [
      "\u001b[1;31m---------------------------------------------------------------------------\u001b[0m",
      "\u001b[1;31mAttributeError\u001b[0m                            Traceback (most recent call last)",
      "\u001b[1;32md:\\pyqmt\\notebooks\\sqlite.ipynb Cell 5\u001b[0m line \u001b[0;36m1\n\u001b[0;32m      <a href='vscode-notebook-cell://ssh-remote%2Bhub/d%3A/pyqmt/notebooks/sqlite.ipynb#W4sdnNjb2RlLXJlbW90ZQ%3D%3D?line=5'>6</a>\u001b[0m     \u001b[39m@classmethod\u001b[39m\n\u001b[0;32m      <a href='vscode-notebook-cell://ssh-remote%2Bhub/d%3A/pyqmt/notebooks/sqlite.ipynb#W4sdnNjb2RlLXJlbW90ZQ%3D%3D?line=6'>7</a>\u001b[0m     \u001b[39mdef\u001b[39;00m \u001b[39mall\u001b[39m(\u001b[39mcls\u001b[39m):\n\u001b[0;32m      <a href='vscode-notebook-cell://ssh-remote%2Bhub/d%3A/pyqmt/notebooks/sqlite.ipynb#W4sdnNjb2RlLXJlbW90ZQ%3D%3D?line=7'>8</a>\u001b[0m         \u001b[39mreturn\u001b[39;00m [\u001b[39mgetattr\u001b[39m(\u001b[39mcls\u001b[39m, attr) \u001b[39mfor\u001b[39;00m attr \u001b[39min\u001b[39;00m \u001b[39mcls\u001b[39m\u001b[39m.\u001b[39m\u001b[39m__dict__\u001b[39m\u001b[39m.\u001b[39mkeys() \u001b[39mif\u001b[39;00m \u001b[39misinstance\u001b[39m(\u001b[39mcls\u001b[39m\u001b[39m.\u001b[39mattr, \u001b[39mstr\u001b[39m)]\n\u001b[1;32m---> <a href='vscode-notebook-cell://ssh-remote%2Bhub/d%3A/pyqmt/notebooks/sqlite.ipynb#W4sdnNjb2RlLXJlbW90ZQ%3D%3D?line=10'>11</a>\u001b[0m HaystoreTbl\u001b[39m.\u001b[39;49mall()\n",
      "\u001b[1;32md:\\pyqmt\\notebooks\\sqlite.ipynb Cell 5\u001b[0m line \u001b[0;36m8\n\u001b[0;32m      <a href='vscode-notebook-cell://ssh-remote%2Bhub/d%3A/pyqmt/notebooks/sqlite.ipynb#W4sdnNjb2RlLXJlbW90ZQ%3D%3D?line=5'>6</a>\u001b[0m \u001b[39m@classmethod\u001b[39m\n\u001b[0;32m      <a href='vscode-notebook-cell://ssh-remote%2Bhub/d%3A/pyqmt/notebooks/sqlite.ipynb#W4sdnNjb2RlLXJlbW90ZQ%3D%3D?line=6'>7</a>\u001b[0m \u001b[39mdef\u001b[39;00m \u001b[39mall\u001b[39m(\u001b[39mcls\u001b[39m):\n\u001b[1;32m----> <a href='vscode-notebook-cell://ssh-remote%2Bhub/d%3A/pyqmt/notebooks/sqlite.ipynb#W4sdnNjb2RlLXJlbW90ZQ%3D%3D?line=7'>8</a>\u001b[0m     \u001b[39mreturn\u001b[39;00m [\u001b[39mgetattr\u001b[39m(\u001b[39mcls\u001b[39m, attr) \u001b[39mfor\u001b[39;00m attr \u001b[39min\u001b[39;00m \u001b[39mcls\u001b[39m\u001b[39m.\u001b[39m\u001b[39m__dict__\u001b[39m\u001b[39m.\u001b[39mkeys() \u001b[39mif\u001b[39;00m \u001b[39misinstance\u001b[39m(\u001b[39mcls\u001b[39m\u001b[39m.\u001b[39mattr, \u001b[39mstr\u001b[39m)]\n",
      "\u001b[1;32md:\\pyqmt\\notebooks\\sqlite.ipynb Cell 5\u001b[0m line \u001b[0;36m8\n\u001b[0;32m      <a href='vscode-notebook-cell://ssh-remote%2Bhub/d%3A/pyqmt/notebooks/sqlite.ipynb#W4sdnNjb2RlLXJlbW90ZQ%3D%3D?line=5'>6</a>\u001b[0m \u001b[39m@classmethod\u001b[39m\n\u001b[0;32m      <a href='vscode-notebook-cell://ssh-remote%2Bhub/d%3A/pyqmt/notebooks/sqlite.ipynb#W4sdnNjb2RlLXJlbW90ZQ%3D%3D?line=6'>7</a>\u001b[0m \u001b[39mdef\u001b[39;00m \u001b[39mall\u001b[39m(\u001b[39mcls\u001b[39m):\n\u001b[1;32m----> <a href='vscode-notebook-cell://ssh-remote%2Bhub/d%3A/pyqmt/notebooks/sqlite.ipynb#W4sdnNjb2RlLXJlbW90ZQ%3D%3D?line=7'>8</a>\u001b[0m     \u001b[39mreturn\u001b[39;00m [\u001b[39mgetattr\u001b[39m(\u001b[39mcls\u001b[39m, attr) \u001b[39mfor\u001b[39;00m attr \u001b[39min\u001b[39;00m \u001b[39mcls\u001b[39m\u001b[39m.\u001b[39m\u001b[39m__dict__\u001b[39m\u001b[39m.\u001b[39mkeys() \u001b[39mif\u001b[39;00m \u001b[39misinstance\u001b[39m(\u001b[39mcls\u001b[39;49m\u001b[39m.\u001b[39;49mattr, \u001b[39mstr\u001b[39m)]\n",
      "\u001b[1;31mAttributeError\u001b[0m: type object 'HaystoreTbl' has no attribute 'attr'"
     ]
    }
   ],
   "source": [
    "class HaystoreTbl:\n",
    "    securities = \"securities\"\n",
    "    bars_1m = \"bars_1m\"\n",
    "    bars_1d = \"bars_1d\"\n",
    "\n",
    "    @classmethod\n",
    "    def all(cls):\n",
    "        return [cls.securities, cls.bars_1d, cls.bars_1m]\n",
    "    \n",
    "\n",
    "HaystoreTbl.all()\n"
   ]
  },
  {
   "cell_type": "code",
   "execution_count": null,
   "metadata": {},
   "outputs": [],
   "source": []
  }
 ],
 "metadata": {
  "kernelspec": {
   "display_name": "qmtserver",
   "language": "python",
   "name": "python3"
  },
  "language_info": {
   "codemirror_mode": {
    "name": "ipython",
    "version": 3
   },
   "file_extension": ".py",
   "mimetype": "text/x-python",
   "name": "python",
   "nbconvert_exporter": "python",
   "pygments_lexer": "ipython3",
   "version": "3.10.13"
  }
 },
 "nbformat": 4,
 "nbformat_minor": 2
}
